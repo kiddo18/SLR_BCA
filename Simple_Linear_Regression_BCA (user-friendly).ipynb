{
 "cells": [
  {
   "cell_type": "markdown",
   "id": "d8ccd4ca",
   "metadata": {},
   "source": [
    "# Simple Linear Regression on BCA standards curve\n",
    "\n",
    "Usage:\n",
    "\n",
    "0) (Optional) If the modules are not installed, please install via `pip` or `conda`.\n",
    "\n",
    "1) In Excel, create a table with 4 columns labeled \"Standard\", \"I1\", \"I2\", \"I3\" where Standard column has the numerical value of concentration of standard (ng/uL) and I1, I2, I3 have the corresponding luminescence intensity values.\n",
    "\n",
    "2) Go to Step 1. and replace the `file` variable with the correct path to your Excel file on your computer.\n",
    "\n",
    "3) Then click \"Kernel\" > \"Restart and Run all\"\n",
    "\n",
    "4) See the beautiful plot!"
   ]
  },
  {
   "cell_type": "markdown",
   "id": "67e8cf33",
   "metadata": {},
   "source": [
    "https://realpython.com/linear-regression-in-python/"
   ]
  },
  {
   "cell_type": "markdown",
   "id": "fee98bd8",
   "metadata": {},
   "source": [
    "# 0. Import the following modules\n",
    "\n",
    "Download these with either `pip` or `anaconda`\n",
    "\n",
    "`pip install numpy`"
   ]
  },
  {
   "cell_type": "code",
   "execution_count": 1,
   "id": "d959ec20",
   "metadata": {},
   "outputs": [],
   "source": [
    "import numpy as np\n",
    "import pandas as pd\n",
    "import matplotlib.pyplot as plt\n",
    "from sklearn.linear_model import LinearRegression\n",
    "import seaborn as sns"
   ]
  },
  {
   "cell_type": "markdown",
   "id": "ca96eafd",
   "metadata": {},
   "source": [
    "# 1. Load the data from Excel"
   ]
  },
  {
   "cell_type": "markdown",
   "id": "b0393b77",
   "metadata": {},
   "source": [
    "Replace the `file` variable with the path to the Excel file."
   ]
  },
  {
   "cell_type": "code",
   "execution_count": 82,
   "id": "26dce7e6",
   "metadata": {},
   "outputs": [],
   "source": [
    "file = \"BCA_Standard_Linear_Regression.xlsx\""
   ]
  },
  {
   "cell_type": "code",
   "execution_count": 83,
   "id": "96fc51d4",
   "metadata": {},
   "outputs": [
    {
     "data": {
      "text/html": [
       "<div>\n",
       "<style scoped>\n",
       "    .dataframe tbody tr th:only-of-type {\n",
       "        vertical-align: middle;\n",
       "    }\n",
       "\n",
       "    .dataframe tbody tr th {\n",
       "        vertical-align: top;\n",
       "    }\n",
       "\n",
       "    .dataframe thead th {\n",
       "        text-align: right;\n",
       "    }\n",
       "</style>\n",
       "<table border=\"1\" class=\"dataframe\">\n",
       "  <thead>\n",
       "    <tr style=\"text-align: right;\">\n",
       "      <th></th>\n",
       "      <th>Standard</th>\n",
       "      <th>I1</th>\n",
       "      <th>I2</th>\n",
       "      <th>I3</th>\n",
       "    </tr>\n",
       "  </thead>\n",
       "  <tbody>\n",
       "    <tr>\n",
       "      <th>0</th>\n",
       "      <td>0</td>\n",
       "      <td>0.317</td>\n",
       "      <td>0.305</td>\n",
       "      <td>0.300</td>\n",
       "    </tr>\n",
       "    <tr>\n",
       "      <th>1</th>\n",
       "      <td>125</td>\n",
       "      <td>0.347</td>\n",
       "      <td>0.336</td>\n",
       "      <td>0.324</td>\n",
       "    </tr>\n",
       "    <tr>\n",
       "      <th>2</th>\n",
       "      <td>250</td>\n",
       "      <td>0.371</td>\n",
       "      <td>0.359</td>\n",
       "      <td>0.353</td>\n",
       "    </tr>\n",
       "    <tr>\n",
       "      <th>3</th>\n",
       "      <td>500</td>\n",
       "      <td>0.466</td>\n",
       "      <td>0.443</td>\n",
       "      <td>0.440</td>\n",
       "    </tr>\n",
       "    <tr>\n",
       "      <th>4</th>\n",
       "      <td>750</td>\n",
       "      <td>0.519</td>\n",
       "      <td>0.498</td>\n",
       "      <td>0.506</td>\n",
       "    </tr>\n",
       "    <tr>\n",
       "      <th>5</th>\n",
       "      <td>1000</td>\n",
       "      <td>0.607</td>\n",
       "      <td>0.582</td>\n",
       "      <td>0.557</td>\n",
       "    </tr>\n",
       "    <tr>\n",
       "      <th>6</th>\n",
       "      <td>1500</td>\n",
       "      <td>0.761</td>\n",
       "      <td>0.720</td>\n",
       "      <td>0.698</td>\n",
       "    </tr>\n",
       "    <tr>\n",
       "      <th>7</th>\n",
       "      <td>2000</td>\n",
       "      <td>0.935</td>\n",
       "      <td>0.904</td>\n",
       "      <td>0.858</td>\n",
       "    </tr>\n",
       "  </tbody>\n",
       "</table>\n",
       "</div>"
      ],
      "text/plain": [
       "   Standard     I1     I2     I3\n",
       "0         0  0.317  0.305  0.300\n",
       "1       125  0.347  0.336  0.324\n",
       "2       250  0.371  0.359  0.353\n",
       "3       500  0.466  0.443  0.440\n",
       "4       750  0.519  0.498  0.506\n",
       "5      1000  0.607  0.582  0.557\n",
       "6      1500  0.761  0.720  0.698\n",
       "7      2000  0.935  0.904  0.858"
      ]
     },
     "execution_count": 83,
     "metadata": {},
     "output_type": "execute_result"
    }
   ],
   "source": [
    "# Load into a pandas dataframe\n",
    "df = pd.read_excel(file)\n",
    "df"
   ]
  },
  {
   "cell_type": "code",
   "execution_count": 89,
   "id": "e080ebdf",
   "metadata": {
    "scrolled": true
   },
   "outputs": [
    {
     "data": {
      "text/html": [
       "<div>\n",
       "<style scoped>\n",
       "    .dataframe tbody tr th:only-of-type {\n",
       "        vertical-align: middle;\n",
       "    }\n",
       "\n",
       "    .dataframe tbody tr th {\n",
       "        vertical-align: top;\n",
       "    }\n",
       "\n",
       "    .dataframe thead th {\n",
       "        text-align: right;\n",
       "    }\n",
       "</style>\n",
       "<table border=\"1\" class=\"dataframe\">\n",
       "  <thead>\n",
       "    <tr style=\"text-align: right;\">\n",
       "      <th></th>\n",
       "      <th>Standard</th>\n",
       "      <th>variable</th>\n",
       "      <th>value</th>\n",
       "    </tr>\n",
       "  </thead>\n",
       "  <tbody>\n",
       "    <tr>\n",
       "      <th>0</th>\n",
       "      <td>0</td>\n",
       "      <td>I1</td>\n",
       "      <td>0.317</td>\n",
       "    </tr>\n",
       "    <tr>\n",
       "      <th>1</th>\n",
       "      <td>125</td>\n",
       "      <td>I1</td>\n",
       "      <td>0.347</td>\n",
       "    </tr>\n",
       "    <tr>\n",
       "      <th>2</th>\n",
       "      <td>250</td>\n",
       "      <td>I1</td>\n",
       "      <td>0.371</td>\n",
       "    </tr>\n",
       "    <tr>\n",
       "      <th>3</th>\n",
       "      <td>500</td>\n",
       "      <td>I1</td>\n",
       "      <td>0.466</td>\n",
       "    </tr>\n",
       "    <tr>\n",
       "      <th>4</th>\n",
       "      <td>750</td>\n",
       "      <td>I1</td>\n",
       "      <td>0.519</td>\n",
       "    </tr>\n",
       "    <tr>\n",
       "      <th>5</th>\n",
       "      <td>1000</td>\n",
       "      <td>I1</td>\n",
       "      <td>0.607</td>\n",
       "    </tr>\n",
       "    <tr>\n",
       "      <th>6</th>\n",
       "      <td>1500</td>\n",
       "      <td>I1</td>\n",
       "      <td>0.761</td>\n",
       "    </tr>\n",
       "    <tr>\n",
       "      <th>7</th>\n",
       "      <td>2000</td>\n",
       "      <td>I1</td>\n",
       "      <td>0.935</td>\n",
       "    </tr>\n",
       "    <tr>\n",
       "      <th>8</th>\n",
       "      <td>0</td>\n",
       "      <td>I2</td>\n",
       "      <td>0.305</td>\n",
       "    </tr>\n",
       "    <tr>\n",
       "      <th>9</th>\n",
       "      <td>125</td>\n",
       "      <td>I2</td>\n",
       "      <td>0.336</td>\n",
       "    </tr>\n",
       "    <tr>\n",
       "      <th>10</th>\n",
       "      <td>250</td>\n",
       "      <td>I2</td>\n",
       "      <td>0.359</td>\n",
       "    </tr>\n",
       "    <tr>\n",
       "      <th>11</th>\n",
       "      <td>500</td>\n",
       "      <td>I2</td>\n",
       "      <td>0.443</td>\n",
       "    </tr>\n",
       "    <tr>\n",
       "      <th>12</th>\n",
       "      <td>750</td>\n",
       "      <td>I2</td>\n",
       "      <td>0.498</td>\n",
       "    </tr>\n",
       "    <tr>\n",
       "      <th>13</th>\n",
       "      <td>1000</td>\n",
       "      <td>I2</td>\n",
       "      <td>0.582</td>\n",
       "    </tr>\n",
       "    <tr>\n",
       "      <th>14</th>\n",
       "      <td>1500</td>\n",
       "      <td>I2</td>\n",
       "      <td>0.720</td>\n",
       "    </tr>\n",
       "    <tr>\n",
       "      <th>15</th>\n",
       "      <td>2000</td>\n",
       "      <td>I2</td>\n",
       "      <td>0.904</td>\n",
       "    </tr>\n",
       "    <tr>\n",
       "      <th>16</th>\n",
       "      <td>0</td>\n",
       "      <td>I3</td>\n",
       "      <td>0.300</td>\n",
       "    </tr>\n",
       "    <tr>\n",
       "      <th>17</th>\n",
       "      <td>125</td>\n",
       "      <td>I3</td>\n",
       "      <td>0.324</td>\n",
       "    </tr>\n",
       "    <tr>\n",
       "      <th>18</th>\n",
       "      <td>250</td>\n",
       "      <td>I3</td>\n",
       "      <td>0.353</td>\n",
       "    </tr>\n",
       "    <tr>\n",
       "      <th>19</th>\n",
       "      <td>500</td>\n",
       "      <td>I3</td>\n",
       "      <td>0.440</td>\n",
       "    </tr>\n",
       "    <tr>\n",
       "      <th>20</th>\n",
       "      <td>750</td>\n",
       "      <td>I3</td>\n",
       "      <td>0.506</td>\n",
       "    </tr>\n",
       "    <tr>\n",
       "      <th>21</th>\n",
       "      <td>1000</td>\n",
       "      <td>I3</td>\n",
       "      <td>0.557</td>\n",
       "    </tr>\n",
       "    <tr>\n",
       "      <th>22</th>\n",
       "      <td>1500</td>\n",
       "      <td>I3</td>\n",
       "      <td>0.698</td>\n",
       "    </tr>\n",
       "    <tr>\n",
       "      <th>23</th>\n",
       "      <td>2000</td>\n",
       "      <td>I3</td>\n",
       "      <td>0.858</td>\n",
       "    </tr>\n",
       "  </tbody>\n",
       "</table>\n",
       "</div>"
      ],
      "text/plain": [
       "    Standard variable  value\n",
       "0          0       I1  0.317\n",
       "1        125       I1  0.347\n",
       "2        250       I1  0.371\n",
       "3        500       I1  0.466\n",
       "4        750       I1  0.519\n",
       "5       1000       I1  0.607\n",
       "6       1500       I1  0.761\n",
       "7       2000       I1  0.935\n",
       "8          0       I2  0.305\n",
       "9        125       I2  0.336\n",
       "10       250       I2  0.359\n",
       "11       500       I2  0.443\n",
       "12       750       I2  0.498\n",
       "13      1000       I2  0.582\n",
       "14      1500       I2  0.720\n",
       "15      2000       I2  0.904\n",
       "16         0       I3  0.300\n",
       "17       125       I3  0.324\n",
       "18       250       I3  0.353\n",
       "19       500       I3  0.440\n",
       "20       750       I3  0.506\n",
       "21      1000       I3  0.557\n",
       "22      1500       I3  0.698\n",
       "23      2000       I3  0.858"
      ]
     },
     "execution_count": 89,
     "metadata": {},
     "output_type": "execute_result"
    }
   ],
   "source": [
    "# Convert from wide to long format\n",
    "df_melted = pd.melt(df, id_vars=['Standard'], value_vars=['I1', 'I2', 'I3'])\n",
    "df_melted"
   ]
  },
  {
   "cell_type": "markdown",
   "id": "2977a4b6",
   "metadata": {},
   "source": [
    "# 2. Run the `sklearn` 's `LinearRegression()` function."
   ]
  },
  {
   "cell_type": "code",
   "execution_count": 100,
   "id": "e882b0ff",
   "metadata": {},
   "outputs": [
    {
     "data": {
      "text/plain": [
       "LinearRegression()"
      ]
     },
     "execution_count": 100,
     "metadata": {},
     "output_type": "execute_result"
    }
   ],
   "source": [
    "model = LinearRegression()\n",
    "standard = df_melted.Standard.to_numpy().reshape((-1, 1))\n",
    "value = df_melted.value\n",
    "model.fit(standard, value)"
   ]
  },
  {
   "cell_type": "markdown",
   "id": "d00b679d",
   "metadata": {},
   "source": [
    "# 3. Outputs:"
   ]
  },
  {
   "cell_type": "code",
   "execution_count": 102,
   "id": "350cfe2c",
   "metadata": {},
   "outputs": [
    {
     "name": "stdout",
     "output_type": "stream",
     "text": [
      "intercept: 0.2957651386530843\n"
     ]
    }
   ],
   "source": [
    "print('intercept:', model.intercept_)"
   ]
  },
  {
   "cell_type": "code",
   "execution_count": 103,
   "id": "18099d96",
   "metadata": {},
   "outputs": [
    {
     "name": "stdout",
     "output_type": "stream",
     "text": [
      "slope: [0.00029429]\n"
     ]
    }
   ],
   "source": [
    "print('slope:', model.coef_)"
   ]
  },
  {
   "cell_type": "code",
   "execution_count": 105,
   "id": "25e09ea1",
   "metadata": {},
   "outputs": [
    {
     "name": "stdout",
     "output_type": "stream",
     "text": [
      "predicted response:\n",
      "[0.29576514 0.33255178 0.36933843 0.44291171 0.516485   0.59005829\n",
      " 0.73720487 0.88435144 0.29576514 0.33255178 0.36933843 0.44291171\n",
      " 0.516485   0.59005829 0.73720487 0.88435144 0.29576514 0.33255178\n",
      " 0.36933843 0.44291171 0.516485   0.59005829 0.73720487 0.88435144]\n"
     ]
    }
   ],
   "source": [
    "y_pred = model.predict(standard)\n",
    "# Alternatively\n",
    "# y_pred = model.intercept_ + model.coef_ * x\n",
    "print('predicted response:', y_pred, sep='\\n')"
   ]
  },
  {
   "cell_type": "code",
   "execution_count": 106,
   "id": "3d15eadb",
   "metadata": {},
   "outputs": [
    {
     "name": "stdout",
     "output_type": "stream",
     "text": [
      "Equation: y = 0.2957651386530843 + [0.00029429] * x\n"
     ]
    }
   ],
   "source": [
    "print(\"Equation: y = {0} + {1} * x\".format(model.intercept_, model.coef_))"
   ]
  },
  {
   "cell_type": "code",
   "execution_count": 101,
   "id": "c037bebf",
   "metadata": {},
   "outputs": [
    {
     "name": "stdout",
     "output_type": "stream",
     "text": [
      "coefficient of determination R^2: 0.9892832905430707\n"
     ]
    }
   ],
   "source": [
    "r_sq = model.score(standard, value)\n",
    "print('coefficient of determination (R^2):', r_sq)"
   ]
  },
  {
   "cell_type": "code",
   "execution_count": 92,
   "id": "39ec23e2",
   "metadata": {},
   "outputs": [
    {
     "data": {
      "text/plain": [
       "<seaborn.axisgrid.FacetGrid at 0x16811ffa0>"
      ]
     },
     "execution_count": 92,
     "metadata": {},
     "output_type": "execute_result"
    },
    {
     "data": {
      "image/png": "[encoded data removed]",
      "text/plain": [
       "<Figure size 360x360 with 1 Axes>"
      ]
     },
     "metadata": {
      "needs_background": "light"
     },
     "output_type": "display_data"
    }
   ],
   "source": [
    "sns.lmplot(x=\"Standard\", y=\"value\", data=df_melted, fit_reg=True, ci=95, n_boot=1000)"
   ]
  }
 ],
 "metadata": {
  "kernelspec": {
   "display_name": "Python 3 (ipykernel)",
   "language": "python",
   "name": "python3"
  },
  "language_info": {
   "codemirror_mode": {
    "name": "ipython",
    "version": 3
   },
   "file_extension": ".py",
   "mimetype": "text/x-python",
   "name": "python",
   "nbconvert_exporter": "python",
   "pygments_lexer": "ipython3",
   "version": "3.8.12"
  }
 },
 "nbformat": 4,
 "nbformat_minor": 5
}
